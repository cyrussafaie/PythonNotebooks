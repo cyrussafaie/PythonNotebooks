{
 "cells": [
  {
   "cell_type": "markdown",
   "metadata": {},
   "source": [
    "# Gradient Descent"
   ]
  },
  {
   "cell_type": "markdown",
   "metadata": {},
   "source": [
    "Gradient descent in a simple linear regression example with a single predictor.  "
   ]
  },
  {
   "cell_type": "markdown",
   "metadata": {},
   "source": [
    "Let's start by importing all of our plotting functionality and numpy:"
   ]
  },
  {
   "cell_type": "code",
   "execution_count": null,
   "metadata": {
    "collapsed": false
   },
   "outputs": [],
   "source": [
    "%matplotlib inline"
   ]
  },
  {
   "cell_type": "code",
   "execution_count": null,
   "metadata": {
    "collapsed": false
   },
   "outputs": [],
   "source": [
    "import numpy as np"
   ]
  },
  {
   "cell_type": "code",
   "execution_count": null,
   "metadata": {
    "collapsed": false
   },
   "outputs": [],
   "source": [
    "import matplotlib.pyplot as plt\n",
    "import seaborn as sns"
   ]
  },
  {
   "cell_type": "markdown",
   "metadata": {},
   "source": [
    "Here, we construct a simulated dataset:\n",
    "$$y = 8x+ \\epsilon$$\n",
    "where\n",
    "$$\\epsilon \\sim N(0, 2)$$"
   ]
  },
  {
   "cell_type": "code",
   "execution_count": null,
   "metadata": {
    "collapsed": false
   },
   "outputs": [],
   "source": [
    "# np.random.rand gives us uniformly distributed random numbers [0, 1], so multiplying by 10 gives us [0, 10]\n",
    "X = 10*np.random.rand(50) \n",
    "# np.random.randn gives us standard normal random numbers, so multiplying by 2 gives us N(0, 2)\n",
    "eps = 2*np.random.randn(50)\n",
    "# our final simulated dataset\n",
    "y = 8*X+eps"
   ]
  },
  {
   "cell_type": "markdown",
   "metadata": {},
   "source": [
    "Let's take a look at our dataset:"
   ]
  },
  {
   "cell_type": "code",
   "execution_count": null,
   "metadata": {
    "collapsed": false
   },
   "outputs": [],
   "source": [
    "plt.scatter(X, y)\n",
    "plt.xlabel(\"x\")\n",
    "plt.ylabel(\"y\")\n",
    "plt.show()"
   ]
  },
  {
   "cell_type": "markdown",
   "metadata": {},
   "source": [
    "Let's define a function that takes two arguments-a set of predictions and a set of true y values-and returns the average squared loss:"
   ]
  },
  {
   "cell_type": "code",
   "execution_count": null,
   "metadata": {
    "collapsed": false
   },
   "outputs": [],
   "source": [
    "def loss_function(preds, y):\n",
    "    sq_residuals = (y-preds)**2\n",
    "    rss = np.sum(sq_residuals)/len(sq_residuals)\n",
    "    return rss"
   ]
  },
  {
   "cell_type": "markdown",
   "metadata": {},
   "source": [
    "Let's define a function that will take coefficients and a set of x values and return the predictions for a linear model:"
   ]
  },
  {
   "cell_type": "code",
   "execution_count": null,
   "metadata": {
    "collapsed": false
   },
   "outputs": [],
   "source": [
    "def predict_linear_model(b0, b1, x_to_pred):\n",
    "    preds = b0+b1*x_to_pred\n",
    "    return preds"
   ]
  },
  {
   "cell_type": "markdown",
   "metadata": {},
   "source": [
    "And finally, a function that will plot our data, a linear model, and return the loss function value:"
   ]
  },
  {
   "cell_type": "code",
   "execution_count": null,
   "metadata": {
    "collapsed": false
   },
   "outputs": [],
   "source": [
    "def plot_data_and_preds(b0, b1, x_to_pred):\n",
    "    preds = predict_linear_model(b0, b1, x_to_pred)\n",
    "\n",
    "    plt.scatter(X, y)\n",
    "    plt.plot(X, preds, c=\"red\")\n",
    "    plt.xlabel(\"x\")\n",
    "    plt.ylabel(\"y\")\n",
    "    plt.legend([\"Regression Line\", \"Raw Data\"])\n",
    "    plt.show()\n",
    "\n",
    "    the_loss = loss_function(preds, y)\n",
    "    print \"loss=%s\" % the_loss\n",
    "    return the_loss"
   ]
  },
  {
   "cell_type": "code",
   "execution_count": null,
   "metadata": {
    "collapsed": false
   },
   "outputs": [],
   "source": [
    "plot_data_and_preds(0, 2, X)"
   ]
  },
  {
   "cell_type": "markdown",
   "metadata": {},
   "source": [
    "This function will create a bunch of beta values, plot the linear regression line for each, calculate the loss, and make a plot of the loss as a function of beta.  Notice how to specify a default value for a parameter to a function:"
   ]
  },
  {
   "cell_type": "code",
   "execution_count": null,
   "metadata": {
    "collapsed": false
   },
   "outputs": [],
   "source": [
    "def plot_loss_function(y, X, n_points=5):\n",
    "    # equally spaced array of 5 values between -20 and 20, like the seq function in R\n",
    "    beta1s = np.linspace(-20, 20, n_points)\n",
    "    losses = []\n",
    "    for beta1 in beta1s:\n",
    "        print \"beta1=%s \" % beta1\n",
    "        loss = plot_data_and_preds(0, beta1, X)\n",
    "        losses.append(loss)\n",
    "    plt.scatter(beta1s, losses)\n",
    "    plt.xlabel(\"beta1\")\n",
    "    plt.ylabel(\"J\")\n",
    "    plt.show()"
   ]
  },
  {
   "cell_type": "code",
   "execution_count": null,
   "metadata": {
    "collapsed": false
   },
   "outputs": [],
   "source": [
    "#plot_loss_function(y, X)\n",
    "plot_loss_function(y, X, 20)"
   ]
  },
  {
   "cell_type": "markdown",
   "metadata": {},
   "source": [
    "This function will return the value of the gradient of the loss function with respect to $\\beta_1$:"
   ]
  },
  {
   "cell_type": "code",
   "execution_count": null,
   "metadata": {
    "collapsed": false
   },
   "outputs": [],
   "source": [
    "def gradient_b1(b0, b1, y, X):\n",
    "    grad = np.sum(-2.0*X*(y-b0-b1*X))/len(X)\n",
    "    return grad"
   ]
  },
  {
   "cell_type": "code",
   "execution_count": null,
   "metadata": {
    "collapsed": false
   },
   "outputs": [],
   "source": [
    "# the gradient at 20 is positive...\n",
    "gradient_b1(0, 20, y, X)\n",
    "# and at -10 is negative...\n",
    "gradient_b1(0, -10, y, X)"
   ]
  },
  {
   "cell_type": "markdown",
   "metadata": {},
   "source": [
    "And finally, this function will run our gradient descent algorithm to get to the minumum value of $\\beta_1$."
   ]
  },
  {
   "cell_type": "code",
   "execution_count": null,
   "metadata": {
    "collapsed": false
   },
   "outputs": [],
   "source": [
    "def gradient_descent(b0_start, b1_start, y, X, learning_rate=0.01, n_steps=25):\n",
    "    b1 = b1_start\n",
    "    print \"b1=%s\" % b1\n",
    "    for i in range(n_steps):\n",
    "        grad = gradient_b1(b0_start, b1, y, X)\n",
    "        #print \"gradient=%s\" % grad\n",
    "        b1 = b1-learning_rate*grad\n",
    "        print \"b1=%s\" % b1"
   ]
  },
  {
   "cell_type": "code",
   "execution_count": null,
   "metadata": {
    "collapsed": false
   },
   "outputs": [],
   "source": [
    "# play with different learning rates: 0.00001, 0.1, 10\n",
    "gradient_descent(0, 2, y, X, learning_rate=0.01)"
   ]
  },
  {
   "cell_type": "code",
   "execution_count": null,
   "metadata": {
    "collapsed": false
   },
   "outputs": [],
   "source": [
    "# things can go terribly wrong and diverge if the learning rate is too high\n",
    "gradient_descent(0, 20, y, X, learning_rate=10)"
   ]
  },
  {
   "cell_type": "code",
   "execution_count": null,
   "metadata": {
    "collapsed": false
   },
   "outputs": [],
   "source": [
    "# a tiny learning rate with converge slowly\n",
    "gradient_descent(0, 20, y, X, learning_rate=0.00001)"
   ]
  },
  {
   "cell_type": "code",
   "execution_count": null,
   "metadata": {
    "collapsed": true
   },
   "outputs": [],
   "source": []
  }
 ],
 "metadata": {
  "kernelspec": {
   "display_name": "Python 2",
   "language": "python",
   "name": "python2"
  },
  "language_info": {
   "codemirror_mode": {
    "name": "ipython",
    "version": 2
   },
   "file_extension": ".py",
   "mimetype": "text/x-python",
   "name": "python",
   "nbconvert_exporter": "python",
   "pygments_lexer": "ipython2",
   "version": "2.7.11"
  }
 },
 "nbformat": 4,
 "nbformat_minor": 0
}
