{
 "cells": [
  {
   "cell_type": "markdown",
   "metadata": {},
   "source": [
    "# Loan Default Classification\n",
    "## Cyrus Safaie\n",
    "### Date: 12-08-2015"
   ]
  },
  {
   "cell_type": "markdown",
   "metadata": {},
   "source": [
    "\n",
    "\n",
    "### Overview:\n",
    "\n",
    "Loan status data set containing 67 variables and ~27K observations was originally provided in the University of Chicago Data Smackdown, data intensive contest in 2014. The variables come from 3 sources: Application data (Home ownership, loan purpose, address, etc.), Credit data (score, number of credit line, etc.) and loan specification data (interest rate, payment, etc.).\n",
    "\n",
    "The intention is to create a predictive model to predict loan status (Defaulted or Fully Paid) based on 67 independent variables using various classification methods, and select the best model based on its performance on a test set   \n",
    "\n",
    "Following algorithms will be explored: logistic regression, KNN, SVM, Trees, Ensemble method, etc."
   ]
  },
  {
   "cell_type": "code",
   "execution_count": 1,
   "metadata": {
    "collapsed": true
   },
   "outputs": [],
   "source": [
    "%matplotlib inline"
   ]
  },
  {
   "cell_type": "code",
   "execution_count": 2,
   "metadata": {
    "collapsed": true
   },
   "outputs": [],
   "source": [
    "import numpy as np\n",
    "import pandas as pd\n",
    "import matplotlib.pyplot as plt\n",
    "import seaborn as sns\n",
    "\n",
    "from sklearn.metrics import confusion_matrix, accuracy_score, classification_report, roc_curve, roc_auc_score\n",
    "from sklearn import cross_validation\n",
    "from sklearn import datasets, linear_model, preprocessing\n",
    "from sklearn.metrics import accuracy_score, classification_report\n",
    "from sklearn.cross_validation import train_test_split, cross_val_score\n",
    "from sklearn.grid_search import GridSearchCV\n",
    "from sklearn.preprocessing import scale\n",
    "from sklearn.neighbors import KNeighborsClassifier\n",
    "from sklearn.linear_model import LogisticRegression\n",
    "from sklearn.preprocessing import PolynomialFeatures\n",
    "from sklearn.ensemble import RandomForestClassifier, GradientBoostingClassifier\n",
    "from sklearn.decomposition import PCA\n",
    "from sklearn import tree\n",
    "from sklearn.ensemble import RandomForestClassifier, GradientBoostingClassifier, ExtraTreesClassifier\n",
    "from sklearn.grid_search import GridSearchCV\n",
    "from sklearn.linear_model import LogisticRegression\n",
    "from sklearn.metrics import roc_curve, roc_auc_score\n",
    "from sklearn.naive_bayes import GaussianNB \n",
    "from sklearn.svm import SVC\n",
    "\n",
    "from pylab import rcParams\n",
    "from scipy import stats"
   ]
  },
  {
   "cell_type": "markdown",
   "metadata": {},
   "source": [
    "### Data Dictionary:"
   ]
  },
  {
   "cell_type": "code",
   "execution_count": 3,
   "metadata": {
    "collapsed": true
   },
   "outputs": [],
   "source": [
    "def print_full(x):\n",
    "    pd.set_option('display.max_rows', len(x))\n",
    "    print(x)\n",
    "    pd.reset_option('display.max_rows')"
   ]
  },
  {
   "cell_type": "code",
   "execution_count": 4,
   "metadata": {
    "collapsed": false
   },
   "outputs": [
    {
     "name": "stdout",
     "output_type": "stream",
     "text": [
      "   Variable Category                   Variable Name  \\\n",
      "0   Application Data                              id   \n",
      "1   Application Data                  home_ownership   \n",
      "2   Application Data                         purpose   \n",
      "3   Application Data                       addr_city   \n",
      "4   Application Data                      addr_state   \n",
      "5   Application Data                            term   \n",
      "6   Application Data                      annual_inc   \n",
      "7   Application Data                       emp_title   \n",
      "8        Credit Data                        is_inc_v   \n",
      "9        Credit Data                  acc_now_delinq   \n",
      "10       Credit Data            acc_open_past_24mths   \n",
      "11       Credit Data                  bc_open_to_buy   \n",
      "12       Credit Data                percent_bc_gt_75   \n",
      "13       Credit Data                         bc_util   \n",
      "14       Credit Data                             dti   \n",
      "15       Credit Data                     delinq_2yrs   \n",
      "16       Credit Data                     delinq_amnt   \n",
      "17       Credit Data                  inq_last_6mths   \n",
      "18       Credit Data          mths_since_last_delinq   \n",
      "19       Credit Data          mths_since_last_record   \n",
      "20       Credit Data           mths_since_recent_inq   \n",
      "21       Credit Data  mths_since_recent_revol_delinq   \n",
      "22       Credit Data            mths_since_recent_bc   \n",
      "23       Credit Data                        mort_acc   \n",
      "24       Credit Data                        open_acc   \n",
      "25       Credit Data                         pub_rec   \n",
      "26       Credit Data               total_bal_ex_mort   \n",
      "27       Credit Data                       revol_bal   \n",
      "28       Credit Data                      revol_util   \n",
      "29       Credit Data                  total_bc_limit   \n",
      "30       Credit Data                       total_acc   \n",
      "31       Credit Data      total_il_high_credit_limit   \n",
      "32       Credit Data                   num_rev_accts   \n",
      "33       Credit Data        mths_since_recent_bc_dlq   \n",
      "34       Credit Data            pub_rec_bankruptcies   \n",
      "35       Credit Data           num_accts_ever_120_pd   \n",
      "36       Credit Data        chargeoff_within_12_mths   \n",
      "37       Credit Data      collections_12_mths_ex_med   \n",
      "38       Credit Data                       tax_liens   \n",
      "39       Credit Data     mths_since_last_major_derog   \n",
      "40       Credit Data                        num_sats   \n",
      "41       Credit Data              num_tl_op_past_12m   \n",
      "42       Credit Data                  mo_sin_rcnt_tl   \n",
      "43       Credit Data                 tot_hi_cred_lim   \n",
      "44       Credit Data                     tot_cur_bal   \n",
      "45       Credit Data                     avg_cur_bal   \n",
      "46       Credit Data                       num_bc_tl   \n",
      "47       Credit Data                  num_actv_bc_tl   \n",
      "48       Credit Data                     num_bc_sats   \n",
      "49       Credit Data                  pct_tl_nvr_dlq   \n",
      "50       Credit Data              num_tl_90g_dpd_24m   \n",
      "51       Credit Data                    num_tl_30dpd   \n",
      "52       Credit Data                num_tl_120dpd_2m   \n",
      "53       Credit Data                       num_il_tl   \n",
      "54       Credit Data              mo_sin_old_il_acct   \n",
      "55       Credit Data                 num_actv_rev_tl   \n",
      "56       Credit Data            mo_sin_old_rev_tl_op   \n",
      "57       Credit Data           mo_sin_rcnt_rev_tl_op   \n",
      "58       Credit Data                total_rev_hi_lim   \n",
      "59       Credit Data             num_rev_tl_bal_gt_0   \n",
      "60       Credit Data                   num_op_rev_tl   \n",
      "61       Credit Data                    tot_coll_amt   \n",
      "62       Credit Data                           grade   \n",
      "63       Credit Data                       sub_grade   \n",
      "64       Credit Data                      emp_length   \n",
      "65         Loan Info                        int_rate   \n",
      "66         Loan Info                       loan_amnt   \n",
      "67         Loan Info                     installment   \n",
      "68  Loan Performance                     loan_status   \n",
      "69  Loan Performance                             npv   \n",
      "\n",
      "                                 Variable Description  \n",
      "0                           A unique ID for the loan.  \n",
      "1   The home ownership status provided by the borr...  \n",
      "2   A category provided by the borrower for the lo...  \n",
      "3   The  city provided by the borrower in the loan...  \n",
      "4   The state provided by the borrower in the loan...  \n",
      "5   The number of payments on the loan. Values are...  \n",
      "6   The annual income provided by the borrower dur...  \n",
      "7   The job title supplied by the Borrower when ap...  \n",
      "8   Indicates if income was verified, not verified...  \n",
      "9   The number of accounts on which the borrower i...  \n",
      "10         Number of trades opened in past 24 months.  \n",
      "11          Total open to buy on revolving bankcards.  \n",
      "12  Percentage of all bankcard accounts > 75% of l...  \n",
      "13  Ratio of total current balance to high credit/...  \n",
      "14  A ratio calculated using the borrower_s total ...  \n",
      "15  The number of 30+ days past-due incidences of ...  \n",
      "16  The past-due amount owed for the accounts on w...  \n",
      "17  The number of inquiries by creditors during th...  \n",
      "18  The number of months since the borrower's last...  \n",
      "19  The number of months since the last public rec...  \n",
      "20                  Months since most recent inquiry.  \n",
      "21    Months since most recent revolving delinquency.  \n",
      "22  Months since most recent bankcard account opened.  \n",
      "23                       Number of mortgage accounts.  \n",
      "24  The number of open credit lines in the borrowe...  \n",
      "25                Number of derogatory public records  \n",
      "26            Total credit balance excluding mortgage  \n",
      "27                     Total credit revolving balance  \n",
      "28  Revolving line utilization rate, or the amount...  \n",
      "29            Total bankcard high credit/credit limit  \n",
      "30  The total number of credit lines currently in ...  \n",
      "31         Total installment high credit/credit limit  \n",
      "32                       Number of revolving accounts  \n",
      "33      Months since most recent bankcard delinquency  \n",
      "34               Number of public record bankruptcies  \n",
      "35  Number of accounts ever 120 or more days past due  \n",
      "36             Number of charge-offs within 12 months  \n",
      "37  Number of collections in 12 months excluding m...  \n",
      "38                                Number of tax liens  \n",
      "39    Months since most recent 90-day or worse rating  \n",
      "40                    Number of satisfactory accounts  \n",
      "41        Number of accounts opened in past 12 months  \n",
      "42            Months since most recent account opened  \n",
      "43                     Total high credit/credit limit  \n",
      "44              Total current balance of all accounts  \n",
      "45            Average current balance of all accounts  \n",
      "46                        Number of bankcard accounts  \n",
      "47       Number of currently active bankcard accounts  \n",
      "48           Number of satisfactory bankcard accounts  \n",
      "49                 Percent of trades never delinquent  \n",
      "50  Number of accounts 90 or more days past due in...  \n",
      "51  Number of accounts currently 30 days past due ...  \n",
      "52  Number of accounts currently 120 days past due...  \n",
      "53                     Number of installment accounts  \n",
      "54     Months since oldest installment account opened  \n",
      "55        Number of currently active revolving trades  \n",
      "56       Months since oldest revolving account opened  \n",
      "57  Months since most recent revolving account opened  \n",
      "58           Total revolving high credit/credit limit  \n",
      "59         Number of revolving trades with balance >0  \n",
      "60                  Number of open revolving accounts  \n",
      "61                 Total collection amounts ever owed  \n",
      "62                                Assigned loan grade  \n",
      "63                             Assigned loan subgrade  \n",
      "64  Employment length in years. Possible values ar...  \n",
      "65                          Interest Rate on the loan  \n",
      "66  The listed amount of the loan applied for by t...  \n",
      "67  The monthly payment owed by the borrower if th...  \n",
      "68  Current status of the loan. Note that this col...  \n",
      "69  The final net present value of the loan. Note ...  \n"
     ]
    }
   ],
   "source": [
    "data_dictionary=pd.read_csv(\"DataDictionary.csv\",nrows=70, index_col=False)\n",
    "print_full(data_dictionary)\n"
   ]
  },
  {
   "cell_type": "code",
   "execution_count": 5,
   "metadata": {
    "collapsed": true
   },
   "outputs": [],
   "source": [
    "loan_data=pd.read_csv(\"training_copy.csv\")"
   ]
  },
  {
   "cell_type": "code",
   "execution_count": 6,
   "metadata": {
    "collapsed": false
   },
   "outputs": [
    {
     "data": {
      "text/plain": [
       "(27356, 70)"
      ]
     },
     "execution_count": 6,
     "metadata": {},
     "output_type": "execute_result"
    }
   ],
   "source": [
    "loan_data.shape"
   ]
  },
  {
   "cell_type": "code",
   "execution_count": 7,
   "metadata": {
    "collapsed": false
   },
   "outputs": [
    {
     "data": {
      "text/plain": [
       "(27356, 70)"
      ]
     },
     "execution_count": 7,
     "metadata": {},
     "output_type": "execute_result"
    }
   ],
   "source": [
    "loan_data.shape"
   ]
  },
  {
   "cell_type": "markdown",
   "metadata": {},
   "source": [
    "### Data Cleansing:"
   ]
  },
  {
   "cell_type": "markdown",
   "metadata": {},
   "source": [
    "The data contains multiple column with many missing values. We will innitially exclude all columns with more than 40% misssing value and then we'll drop any rows with missing values (this will also simplify the data collection process as some variable may no longer be needed for collection).  Loan ID, City, State and Job title variables would also be  dropped due to high level of variation for a categorical variable. After dropping the columns and removing rows with NA values we will end up with a 16731 observation"
   ]
  },
  {
   "cell_type": "code",
   "execution_count": 8,
   "metadata": {
    "collapsed": false
   },
   "outputs": [
    {
     "name": "stdout",
     "output_type": "stream",
     "text": [
      "id                                False\n",
      "home_ownership                    False\n",
      "purpose                           False\n",
      "addr_city                         False\n",
      "addr_state                        False\n",
      "term                              False\n",
      "annual_inc                        False\n",
      "emp_title                         False\n",
      "is_inc_v                          False\n",
      "acc_now_delinq                    False\n",
      "acc_open_past_24mths              False\n",
      "bc_open_to_buy                    False\n",
      "percent_bc_gt_75                  False\n",
      "bc_util                           False\n",
      "dti                               False\n",
      "delinq_2yrs                       False\n",
      "delinq_amnt                       False\n",
      "inq_last_6mths                    False\n",
      "mths_since_last_delinq             True\n",
      "mths_since_last_record             True\n",
      "mths_since_recent_inq             False\n",
      "mths_since_recent_revol_delinq     True\n",
      "mths_since_recent_bc              False\n",
      "mort_acc                          False\n",
      "open_acc                          False\n",
      "pub_rec                           False\n",
      "total_bal_ex_mort                 False\n",
      "revol_bal                         False\n",
      "revol_util                        False\n",
      "total_bc_limit                    False\n",
      "total_acc                         False\n",
      "total_il_high_credit_limit        False\n",
      "num_rev_accts                     False\n",
      "mths_since_recent_bc_dlq           True\n",
      "pub_rec_bankruptcies              False\n",
      "num_accts_ever_120_pd             False\n",
      "chargeoff_within_12_mths          False\n",
      "collections_12_mths_ex_med        False\n",
      "tax_liens                         False\n",
      "mths_since_last_major_derog        True\n",
      "num_sats                          False\n",
      "num_tl_op_past_12m                False\n",
      "mo_sin_rcnt_tl                    False\n",
      "tot_hi_cred_lim                   False\n",
      "tot_cur_bal                       False\n",
      "avg_cur_bal                       False\n",
      "num_bc_tl                         False\n",
      "num_actv_bc_tl                    False\n",
      "num_bc_sats                       False\n",
      "pct_tl_nvr_dlq                    False\n",
      "num_tl_90g_dpd_24m                False\n",
      "num_tl_30dpd                      False\n",
      "num_tl_120dpd_2m                  False\n",
      "num_il_tl                         False\n",
      "mo_sin_old_il_acct                False\n",
      "num_actv_rev_tl                   False\n",
      "mo_sin_old_rev_tl_op              False\n",
      "mo_sin_rcnt_rev_tl_op             False\n",
      "total_rev_hi_lim                  False\n",
      "num_rev_tl_bal_gt_0               False\n",
      "num_op_rev_tl                     False\n",
      "tot_coll_amt                      False\n",
      "grade                             False\n",
      "sub_grade                         False\n",
      "emp_length                        False\n",
      "int_rate                          False\n",
      "loan_amnt                         False\n",
      "installment                       False\n",
      "loan_status                       False\n",
      "npv                               False\n",
      "Length: 70, dtype: bool\n"
     ]
    }
   ],
   "source": [
    "print_full((loan_data.isnull().sum()/27356)>.4)\n"
   ]
  },
  {
   "cell_type": "code",
   "execution_count": 9,
   "metadata": {
    "collapsed": false
   },
   "outputs": [],
   "source": [
    "loan_data = loan_data.drop(['id','addr_city','emp_title','mths_since_last_delinq',\n",
    "                            'mths_since_last_record','mths_since_recent_revol_delinq','mths_since_recent_bc_dlq',\n",
    "                           'mths_since_last_major_derog','npv','addr_state'], axis=1)"
   ]
  },
  {
   "cell_type": "code",
   "execution_count": 10,
   "metadata": {
    "collapsed": false
   },
   "outputs": [
    {
     "data": {
      "text/plain": [
       "(27356, 60)"
      ]
     },
     "execution_count": 10,
     "metadata": {},
     "output_type": "execute_result"
    }
   ],
   "source": [
    "loan_data.shape"
   ]
  },
  {
   "cell_type": "code",
   "execution_count": 11,
   "metadata": {
    "collapsed": false
   },
   "outputs": [],
   "source": [
    "loan_data = loan_data.dropna(inplace=False)"
   ]
  },
  {
   "cell_type": "code",
   "execution_count": 12,
   "metadata": {
    "collapsed": false
   },
   "outputs": [
    {
     "data": {
      "text/plain": [
       "(16731, 60)"
      ]
     },
     "execution_count": 12,
     "metadata": {},
     "output_type": "execute_result"
    }
   ],
   "source": [
    "loan_data.shape"
   ]
  },
  {
   "cell_type": "code",
   "execution_count": 13,
   "metadata": {
    "collapsed": false
   },
   "outputs": [],
   "source": [
    "# 1 as dummy for Defaulted and 0 for Fully paid status\n",
    "loan_data[\"loan_status\"]=(loan_data[\"loan_status\"] == 'Defaulted').astype(int)"
   ]
  },
  {
   "cell_type": "code",
   "execution_count": 14,
   "metadata": {
    "collapsed": false
   },
   "outputs": [],
   "source": [
    "dummied = pd.get_dummies(loan_data.home_ownership)\n",
    "dummied.columns = [\"home_ownership_%s\" % val for val in dummied.columns]\n",
    "loan_data = pd.concat([dummied,loan_data.drop(\"home_ownership\", 1)], axis=1)\n",
    "\n",
    "dummied = pd.get_dummies(loan_data.purpose)\n",
    "dummied.columns = [\"loan_data_%s\" % val for val in dummied.columns]\n",
    "loan_data = pd.concat([dummied,loan_data.drop(\"purpose\", 1)], axis=1)\n",
    "\n",
    "#dummied = pd.get_dummies(loan_data.addr_state)\n",
    "#dummied.columns = [\"addr_state_%s\" % val for val in dummied.columns]\n",
    "#loan_data = pd.concat([dummied,loan_data.drop(\"addr_state\", 1)], axis=1)\n",
    "\n",
    "dummied = pd.get_dummies(loan_data.term)\n",
    "dummied.columns = [\"term_%s\" % val for val in dummied.columns]\n",
    "loan_data = pd.concat([dummied,loan_data.drop(\"term\", 1)], axis=1)\n",
    "\n",
    "dummied = pd.get_dummies(loan_data.is_inc_v)\n",
    "dummied.columns = [\"is_inc_v_%s\" % val for val in dummied.columns]\n",
    "loan_data = pd.concat([dummied,loan_data.drop(\"is_inc_v\", 1)], axis=1)\n",
    "\n",
    "dummied = pd.get_dummies(loan_data.grade)\n",
    "dummied.columns = [\"grade_%s\" % val for val in dummied.columns]\n",
    "loan_data = pd.concat([dummied,loan_data.drop(\"grade\", 1)], axis=1)\n",
    "\n",
    "dummied = pd.get_dummies(loan_data.sub_grade)\n",
    "dummied.columns = [\"sub_grade_%s\" % val for val in dummied.columns]\n",
    "loan_data = pd.concat([dummied,loan_data.drop(\"sub_grade\", 1)], axis=1)\n",
    "\n",
    "dummied = pd.get_dummies(loan_data.emp_length)\n",
    "dummied.columns = [\"emp_length_%s\" % val for val in dummied.columns]\n",
    "loan_data = pd.concat([dummied,loan_data.drop(\"emp_length\", 1)], axis=1)"
   ]
  },
  {
   "cell_type": "code",
   "execution_count": 15,
   "metadata": {
    "collapsed": false
   },
   "outputs": [
    {
     "data": {
      "text/plain": [
       "(16731, 130)"
      ]
     },
     "execution_count": 15,
     "metadata": {},
     "output_type": "execute_result"
    }
   ],
   "source": [
    "loan_data.shape"
   ]
  },
  {
   "cell_type": "code",
   "execution_count": 16,
   "metadata": {
    "collapsed": false
   },
   "outputs": [
    {
     "data": {
      "text/html": [
       "<div style=\"max-height:1000px;max-width:1500px;overflow:auto;\">\n",
       "<table border=\"1\" class=\"dataframe\">\n",
       "  <thead>\n",
       "    <tr style=\"text-align: right;\">\n",
       "      <th></th>\n",
       "      <th>emp_length_1 year</th>\n",
       "      <th>emp_length_10+ years</th>\n",
       "      <th>emp_length_2 years</th>\n",
       "      <th>emp_length_3 years</th>\n",
       "      <th>emp_length_4 years</th>\n",
       "      <th>emp_length_5 years</th>\n",
       "      <th>emp_length_6 years</th>\n",
       "      <th>emp_length_7 years</th>\n",
       "      <th>emp_length_8 years</th>\n",
       "      <th>emp_length_9 years</th>\n",
       "      <th>...</th>\n",
       "      <th>mo_sin_old_rev_tl_op</th>\n",
       "      <th>mo_sin_rcnt_rev_tl_op</th>\n",
       "      <th>total_rev_hi_lim</th>\n",
       "      <th>num_rev_tl_bal_gt_0</th>\n",
       "      <th>num_op_rev_tl</th>\n",
       "      <th>tot_coll_amt</th>\n",
       "      <th>int_rate</th>\n",
       "      <th>loan_amnt</th>\n",
       "      <th>installment</th>\n",
       "      <th>loan_status</th>\n",
       "    </tr>\n",
       "  </thead>\n",
       "  <tbody>\n",
       "    <tr>\n",
       "      <th>0</th>\n",
       "      <td> 0</td>\n",
       "      <td> 0</td>\n",
       "      <td> 0</td>\n",
       "      <td> 0</td>\n",
       "      <td> 0</td>\n",
       "      <td> 1</td>\n",
       "      <td> 0</td>\n",
       "      <td> 0</td>\n",
       "      <td> 0</td>\n",
       "      <td> 0</td>\n",
       "      <td>...</td>\n",
       "      <td> 117</td>\n",
       "      <td>  5</td>\n",
       "      <td> 27400</td>\n",
       "      <td> 8</td>\n",
       "      <td>  9</td>\n",
       "      <td>    0</td>\n",
       "      <td> 0.1114</td>\n",
       "      <td>  7200</td>\n",
       "      <td> 236.20</td>\n",
       "      <td> 0</td>\n",
       "    </tr>\n",
       "    <tr>\n",
       "      <th>1</th>\n",
       "      <td> 0</td>\n",
       "      <td> 1</td>\n",
       "      <td> 0</td>\n",
       "      <td> 0</td>\n",
       "      <td> 0</td>\n",
       "      <td> 0</td>\n",
       "      <td> 0</td>\n",
       "      <td> 0</td>\n",
       "      <td> 0</td>\n",
       "      <td> 0</td>\n",
       "      <td>...</td>\n",
       "      <td> 427</td>\n",
       "      <td>  2</td>\n",
       "      <td> 35100</td>\n",
       "      <td> 6</td>\n",
       "      <td> 17</td>\n",
       "      <td>    0</td>\n",
       "      <td> 0.1776</td>\n",
       "      <td> 15000</td>\n",
       "      <td> 378.95</td>\n",
       "      <td> 0</td>\n",
       "    </tr>\n",
       "    <tr>\n",
       "      <th>2</th>\n",
       "      <td> 0</td>\n",
       "      <td> 0</td>\n",
       "      <td> 0</td>\n",
       "      <td> 0</td>\n",
       "      <td> 0</td>\n",
       "      <td> 0</td>\n",
       "      <td> 0</td>\n",
       "      <td> 0</td>\n",
       "      <td> 1</td>\n",
       "      <td> 0</td>\n",
       "      <td>...</td>\n",
       "      <td> 140</td>\n",
       "      <td> 14</td>\n",
       "      <td>  6100</td>\n",
       "      <td> 1</td>\n",
       "      <td>  3</td>\n",
       "      <td> 3639</td>\n",
       "      <td> 0.1433</td>\n",
       "      <td>  6000</td>\n",
       "      <td> 206.03</td>\n",
       "      <td> 0</td>\n",
       "    </tr>\n",
       "    <tr>\n",
       "      <th>7</th>\n",
       "      <td> 0</td>\n",
       "      <td> 0</td>\n",
       "      <td> 0</td>\n",
       "      <td> 0</td>\n",
       "      <td> 0</td>\n",
       "      <td> 0</td>\n",
       "      <td> 1</td>\n",
       "      <td> 0</td>\n",
       "      <td> 0</td>\n",
       "      <td> 0</td>\n",
       "      <td>...</td>\n",
       "      <td> 169</td>\n",
       "      <td>  4</td>\n",
       "      <td> 28100</td>\n",
       "      <td> 6</td>\n",
       "      <td>  9</td>\n",
       "      <td>    0</td>\n",
       "      <td> 0.1922</td>\n",
       "      <td>  2500</td>\n",
       "      <td>  91.92</td>\n",
       "      <td> 0</td>\n",
       "    </tr>\n",
       "    <tr>\n",
       "      <th>8</th>\n",
       "      <td> 0</td>\n",
       "      <td> 0</td>\n",
       "      <td> 1</td>\n",
       "      <td> 0</td>\n",
       "      <td> 0</td>\n",
       "      <td> 0</td>\n",
       "      <td> 0</td>\n",
       "      <td> 0</td>\n",
       "      <td> 0</td>\n",
       "      <td> 0</td>\n",
       "      <td>...</td>\n",
       "      <td> 189</td>\n",
       "      <td> 23</td>\n",
       "      <td> 38318</td>\n",
       "      <td> 2</td>\n",
       "      <td>  4</td>\n",
       "      <td>    0</td>\n",
       "      <td> 0.1678</td>\n",
       "      <td> 24000</td>\n",
       "      <td> 593.63</td>\n",
       "      <td> 0</td>\n",
       "    </tr>\n",
       "  </tbody>\n",
       "</table>\n",
       "<p>5 rows × 130 columns</p>\n",
       "</div>"
      ],
      "text/plain": [
       "   emp_length_1 year  emp_length_10+ years  emp_length_2 years  \\\n",
       "0                  0                     0                   0   \n",
       "1                  0                     1                   0   \n",
       "2                  0                     0                   0   \n",
       "7                  0                     0                   0   \n",
       "8                  0                     0                   1   \n",
       "\n",
       "   emp_length_3 years  emp_length_4 years  emp_length_5 years  \\\n",
       "0                   0                   0                   1   \n",
       "1                   0                   0                   0   \n",
       "2                   0                   0                   0   \n",
       "7                   0                   0                   0   \n",
       "8                   0                   0                   0   \n",
       "\n",
       "   emp_length_6 years  emp_length_7 years  emp_length_8 years  \\\n",
       "0                   0                   0                   0   \n",
       "1                   0                   0                   0   \n",
       "2                   0                   0                   1   \n",
       "7                   1                   0                   0   \n",
       "8                   0                   0                   0   \n",
       "\n",
       "   emp_length_9 years     ...       mo_sin_old_rev_tl_op  \\\n",
       "0                   0     ...                        117   \n",
       "1                   0     ...                        427   \n",
       "2                   0     ...                        140   \n",
       "7                   0     ...                        169   \n",
       "8                   0     ...                        189   \n",
       "\n",
       "   mo_sin_rcnt_rev_tl_op  total_rev_hi_lim  num_rev_tl_bal_gt_0  \\\n",
       "0                      5             27400                    8   \n",
       "1                      2             35100                    6   \n",
       "2                     14              6100                    1   \n",
       "7                      4             28100                    6   \n",
       "8                     23             38318                    2   \n",
       "\n",
       "   num_op_rev_tl  tot_coll_amt  int_rate  loan_amnt  installment  loan_status  \n",
       "0              9             0    0.1114       7200       236.20            0  \n",
       "1             17             0    0.1776      15000       378.95            0  \n",
       "2              3          3639    0.1433       6000       206.03            0  \n",
       "7              9             0    0.1922       2500        91.92            0  \n",
       "8              4             0    0.1678      24000       593.63            0  \n",
       "\n",
       "[5 rows x 130 columns]"
      ]
     },
     "execution_count": 16,
     "metadata": {},
     "output_type": "execute_result"
    }
   ],
   "source": [
    "loan_data.head(5)"
   ]
  },
  {
   "cell_type": "markdown",
   "metadata": {},
   "source": [
    "After creating the dummy variables, our data contain 129 varibales, 52 of which are quantitative and the remaining categorical. The quantitative variables have different units, and for some of the algorithms we are going to use scaled data is required. We store the output or depenent variabel \"loan_status\" in labels variable. Also all inputs/independent variables including categorical and scaled quantitative variables are store in X  "
   ]
  },
  {
   "cell_type": "code",
   "execution_count": 17,
   "metadata": {
    "collapsed": false
   },
   "outputs": [
    {
     "data": {
      "text/plain": [
       "((16731,), (16731, 129))"
      ]
     },
     "execution_count": 17,
     "metadata": {},
     "output_type": "execute_result"
    }
   ],
   "source": [
    "labels=np.asarray(loan_data[\"loan_status\"])\n",
    "\n",
    "quants = np.asarray(loan_data[loan_data.columns[77:129]]).astype(float)\n",
    "quants = scale(quants, with_mean=True, with_std = True)\n",
    "\n",
    "X = np.hstack((quants, np.asarray(loan_data[loan_data.columns[0:77]]).astype(float)))\n",
    "labels.shape,X.shape"
   ]
  },
  {
   "cell_type": "code",
   "execution_count": 18,
   "metadata": {
    "collapsed": false
   },
   "outputs": [
    {
     "data": {
      "text/plain": [
       "1758"
      ]
     },
     "execution_count": 18,
     "metadata": {},
     "output_type": "execute_result"
    }
   ],
   "source": [
    "sum(labels)"
   ]
  },
  {
   "cell_type": "markdown",
   "metadata": {},
   "source": [
    "Only 1758 loans have defaulted (~10%) from the 16731 observations that we are evaluating and we are trying to make the best prediction"
   ]
  },
  {
   "cell_type": "markdown",
   "metadata": {},
   "source": [
    "Now we create a 70% traning and 30% random test split, which will be used for evaluating perfomance of all models on the data"
   ]
  },
  {
   "cell_type": "code",
   "execution_count": 19,
   "metadata": {
    "collapsed": false
   },
   "outputs": [],
   "source": [
    "X_train, X_test, y_train, y_test = train_test_split(X, labels, train_size = 0.7, random_state = 60134)"
   ]
  },
  {
   "cell_type": "code",
   "execution_count": 20,
   "metadata": {
    "collapsed": false
   },
   "outputs": [
    {
     "data": {
      "text/plain": [
       "(1243, 515)"
      ]
     },
     "execution_count": 20,
     "metadata": {},
     "output_type": "execute_result"
    }
   ],
   "source": [
    "sum(y_train), sum(y_test)"
   ]
  },
  {
   "cell_type": "markdown",
   "metadata": {},
   "source": [
    "\n",
    "\n",
    "### Model 1: Logistic Regression\n",
    "\n",
    "Now that we have our data ready, we will start by fitting the simplest classificiation algorithm \"Logistic Regression\" to predict defaulted loans. All models will be fitted on te training set and accuracy metrics and errors (misclassification rate) will be reported based on the model performance on the test set (30% of the observations).\n",
    "\n",
    "We will first fit the model with no regularization."
   ]
  },
  {
   "cell_type": "code",
   "execution_count": 21,
   "metadata": {
    "collapsed": false
   },
   "outputs": [
    {
     "data": {
      "text/plain": [
       "LogisticRegression(C=1.0, class_weight=None, dual=False, fit_intercept=True,\n",
       "          intercept_scaling=1, penalty='l2', random_state=None, tol=0.0001)"
      ]
     },
     "execution_count": 21,
     "metadata": {},
     "output_type": "execute_result"
    }
   ],
   "source": [
    "logit= LogisticRegression()\n",
    "logit.fit(X_train, y_train)\n"
   ]
  },
  {
   "cell_type": "code",
   "execution_count": 22,
   "metadata": {
    "collapsed": false
   },
   "outputs": [
    {
     "data": {
      "text/html": [
       "<div style=\"max-height:1000px;max-width:1500px;overflow:auto;\">\n",
       "<table border=\"1\" class=\"dataframe\">\n",
       "  <thead>\n",
       "    <tr style=\"text-align: right;\">\n",
       "      <th>Predicted</th>\n",
       "      <th>0</th>\n",
       "      <th>1</th>\n",
       "    </tr>\n",
       "    <tr>\n",
       "      <th>True</th>\n",
       "      <th></th>\n",
       "      <th></th>\n",
       "    </tr>\n",
       "  </thead>\n",
       "  <tbody>\n",
       "    <tr>\n",
       "      <th>0</th>\n",
       "      <td> 4493</td>\n",
       "      <td> 12</td>\n",
       "    </tr>\n",
       "    <tr>\n",
       "      <th>1</th>\n",
       "      <td>  512</td>\n",
       "      <td>  3</td>\n",
       "    </tr>\n",
       "  </tbody>\n",
       "</table>\n",
       "</div>"
      ],
      "text/plain": [
       "Predicted     0   1\n",
       "True               \n",
       "0          4493  12\n",
       "1           512   3"
      ]
     },
     "execution_count": 22,
     "metadata": {},
     "output_type": "execute_result"
    }
   ],
   "source": [
    "test_preds = logit.predict(X_test)\n",
    "pd.crosstab(index=y_test, columns=test_preds, rownames=['True'], colnames=['Predicted'])"
   ]
  },
  {
   "cell_type": "code",
   "execution_count": 23,
   "metadata": {
    "collapsed": false
   },
   "outputs": [
    {
     "data": {
      "text/plain": [
       "0.89561752988047805"
      ]
     },
     "execution_count": 23,
     "metadata": {},
     "output_type": "execute_result"
    }
   ],
   "source": [
    "logit_Score=accuracy_score(y_test, test_preds)\n",
    "logit_Score"
   ]
  },
  {
   "cell_type": "markdown",
   "metadata": {},
   "source": [
    "Our very simple model logit has a an 89% accuracy in classification, but clearly it is not enough as it still classify most of the defaulted loans wrong. Very low recall for 1"
   ]
  },
  {
   "cell_type": "code",
   "execution_count": 24,
   "metadata": {
    "collapsed": false
   },
   "outputs": [
    {
     "name": "stdout",
     "output_type": "stream",
     "text": [
      "             precision    recall  f1-score   support\n",
      "\n",
      "          0       0.90      1.00      0.94      4505\n",
      "          1       0.20      0.01      0.01       515\n",
      "\n",
      "avg / total       0.83      0.90      0.85      5020\n",
      "\n"
     ]
    }
   ],
   "source": [
    "print classification_report(y_test, test_preds, labels=[0,1])"
   ]
  },
  {
   "cell_type": "markdown",
   "metadata": {},
   "source": [
    "### Model 2: Logistic Regression - Regularized"
   ]
  },
  {
   "cell_type": "code",
   "execution_count": 25,
   "metadata": {
    "collapsed": false
   },
   "outputs": [],
   "source": [
    "logit_reg = LogisticRegression(C=1e5)\n",
    "logit_reg.fit(X_train, y_train)\n",
    "\n",
    "test_preds_probs = logit_reg.predict_proba(X_test)[:, 1]"
   ]
  },
  {
   "cell_type": "code",
   "execution_count": 26,
   "metadata": {
    "collapsed": true
   },
   "outputs": [],
   "source": [
    "fpr, tpr, thresholds = roc_curve(y_test, test_preds_probs)"
   ]
  },
  {
   "cell_type": "code",
   "execution_count": 27,
   "metadata": {
    "collapsed": false
   },
   "outputs": [
    {
     "data": {
      "image/png": "[encoded data removed]",
      "text/plain": [
       "<matplotlib.figure.Figure at 0x106373c10>"
      ]
     },
     "metadata": {},
     "output_type": "display_data"
    }
   ],
   "source": [
    "fpr_rand = tpr_rand = np.linspace(0, 1, 10)\n",
    "\n",
    "plt.plot(fpr, tpr)\n",
    "plt.plot(fpr_rand, tpr_rand, linestyle='--')\n",
    "plt.show()"
   ]
  },
  {
   "cell_type": "code",
   "execution_count": 28,
   "metadata": {
    "collapsed": false
   },
   "outputs": [
    {
     "data": {
      "text/plain": [
       "0.69045418790340829"
      ]
     },
     "execution_count": 28,
     "metadata": {},
     "output_type": "execute_result"
    }
   ],
   "source": [
    "roc_auc_score(y_test, test_preds_probs)"
   ]
  },
  {
   "cell_type": "code",
   "execution_count": 29,
   "metadata": {
    "collapsed": false
   },
   "outputs": [
    {
     "data": {
      "text/plain": [
       "0.89561752988047805"
      ]
     },
     "execution_count": 29,
     "metadata": {},
     "output_type": "execute_result"
    }
   ],
   "source": [
    "test_preds2 = logit_reg.predict(X_test)\n",
    "logit2_Score=accuracy_score(y_test, test_preds2)\n",
    "logit2_Score"
   ]
  },
  {
   "cell_type": "markdown",
   "metadata": {},
   "source": [
    "Now we use param grid and cross validation to tune the parameters"
   ]
  },
  {
   "cell_type": "code",
   "execution_count": 36,
   "metadata": {
    "collapsed": false
   },
   "outputs": [],
   "source": [
    "param_grid = {'C':np.logspace(-5,5,3)}"
   ]
  },
  {
   "cell_type": "code",
   "execution_count": 37,
   "metadata": {
    "collapsed": false
   },
   "outputs": [
    {
     "data": {
      "text/plain": [
       "{'C': array([  1.00000000e-05,   1.00000000e+00,   1.00000000e+05])}"
      ]
     },
     "execution_count": 37,
     "metadata": {},
     "output_type": "execute_result"
    }
   ],
   "source": [
    "param_grid"
   ]
  },
  {
   "cell_type": "code",
   "execution_count": 38,
   "metadata": {
    "collapsed": false
   },
   "outputs": [
    {
     "data": {
      "text/plain": [
       "GridSearchCV(cv=2,\n",
       "       estimator=LogisticRegression(C=100000.0, class_weight=None, dual=False,\n",
       "          fit_intercept=True, intercept_scaling=1, penalty='l2',\n",
       "          random_state=None, tol=0.0001),\n",
       "       fit_params={}, iid=True, loss_func=None, n_jobs=1,\n",
       "       param_grid={'C': array([  1.00000e-05,   1.00000e+00,   1.00000e+05])},\n",
       "       pre_dispatch='2*n_jobs', refit=True, score_func=None, scoring=None,\n",
       "       verbose=0)"
      ]
     },
     "execution_count": 38,
     "metadata": {},
     "output_type": "execute_result"
    }
   ],
   "source": [
    "logit_reg2 = GridSearchCV(logit_reg, param_grid, cv = 2, n_jobs=1, refit = True)\n",
    "logit_reg2.fit(X_train, y_train)"
   ]
  },
  {
   "cell_type": "markdown",
   "metadata": {},
   "source": [
    "Since with any C and pentalty list the cv was taking a very long time, I am not running the possible vaue and just running a simple 2 fold CV and 3 values for C just for ** demonstration purposes **"
   ]
  },
  {
   "cell_type": "markdown",
   "metadata": {},
   "source": [
    "In the context of default loan detection, identifying a loan that would be defaulted probably have more importance than correctly identifying the fully paid loans. The best way to deal with this phenomanom is to consider NPV of the loan as well as the risk tolerance of the portfolio, which both are important, but out of scope of this project. "
   ]
  },
  {
   "cell_type": "code",
   "execution_count": 43,
   "metadata": {
    "collapsed": false
   },
   "outputs": [
    {
     "data": {
      "text/plain": [
       "LogisticRegression(C=1.0000000000000001e-05, class_weight=None, dual=False,\n",
       "          fit_intercept=True, intercept_scaling=1, penalty='l2',\n",
       "          random_state=None, tol=0.0001)"
      ]
     },
     "execution_count": 43,
     "metadata": {},
     "output_type": "execute_result"
    }
   ],
   "source": [
    "logit_reg2.best_estimator_"
   ]
  },
  {
   "cell_type": "code",
   "execution_count": 44,
   "metadata": {
    "collapsed": false
   },
   "outputs": [
    {
     "data": {
      "text/plain": [
       "0.89386047305951666"
      ]
     },
     "execution_count": 44,
     "metadata": {},
     "output_type": "execute_result"
    }
   ],
   "source": [
    "logit_reg2.best_score_"
   ]
  },
  {
   "cell_type": "code",
   "execution_count": 45,
   "metadata": {
    "collapsed": false
   },
   "outputs": [
    {
     "data": {
      "text/plain": [
       "[mean: 0.89386, std: 0.00008, params: {'C': 1.0000000000000001e-05},\n",
       " mean: 0.89386, std: 0.00059, params: {'C': 1.0},\n",
       " mean: 0.89360, std: 0.00050, params: {'C': 100000.0}]"
      ]
     },
     "execution_count": 45,
     "metadata": {},
     "output_type": "execute_result"
    }
   ],
   "source": [
    "logit_reg2.grid_scores_"
   ]
  },
  {
   "cell_type": "markdown",
   "metadata": {},
   "source": [
    "### Model 3: KNN"
   ]
  },
  {
   "cell_type": "markdown",
   "metadata": {},
   "source": [
    "Now we use another powerfull algorithms K-Nearest Neighbors. We first start by fiiting a base model with assuming k=5 and then we will use CV for parameter tuning"
   ]
  },
  {
   "cell_type": "code",
   "execution_count": 21,
   "metadata": {
    "collapsed": true
   },
   "outputs": [],
   "source": [
    "neighbors = KNeighborsClassifier(n_neighbors = 5)\n",
    "neighbors.fit(X_train,y_train)\n",
    "K5_preds = neighbors.predict(X_test)\n"
   ]
  },
  {
   "cell_type": "code",
   "execution_count": 22,
   "metadata": {
    "collapsed": false
   },
   "outputs": [
    {
     "data": {
      "text/html": [
       "<div style=\"max-height:1000px;max-width:1500px;overflow:auto;\">\n",
       "<table border=\"1\" class=\"dataframe\">\n",
       "  <thead>\n",
       "    <tr style=\"text-align: right;\">\n",
       "      <th>Predicted</th>\n",
       "      <th>0</th>\n",
       "      <th>1</th>\n",
       "    </tr>\n",
       "    <tr>\n",
       "      <th>True</th>\n",
       "      <th></th>\n",
       "      <th></th>\n",
       "    </tr>\n",
       "  </thead>\n",
       "  <tbody>\n",
       "    <tr>\n",
       "      <th>0</th>\n",
       "      <td> 4455</td>\n",
       "      <td> 50</td>\n",
       "    </tr>\n",
       "    <tr>\n",
       "      <th>1</th>\n",
       "      <td>  505</td>\n",
       "      <td> 10</td>\n",
       "    </tr>\n",
       "  </tbody>\n",
       "</table>\n",
       "</div>"
      ],
      "text/plain": [
       "Predicted     0   1\n",
       "True               \n",
       "0          4455  50\n",
       "1           505  10"
      ]
     },
     "execution_count": 22,
     "metadata": {},
     "output_type": "execute_result"
    }
   ],
   "source": [
    "pd.crosstab(index=y_test, columns=K5_preds, rownames=['True'], colnames=['Predicted'])"
   ]
  },
  {
   "cell_type": "code",
   "execution_count": 23,
   "metadata": {
    "collapsed": true
   },
   "outputs": [],
   "source": [
    "K5_preds_probs = neighbors.predict_proba(X_test)[:,1]"
   ]
  },
  {
   "cell_type": "code",
   "execution_count": 24,
   "metadata": {
    "collapsed": false
   },
   "outputs": [
    {
     "data": {
      "text/plain": [
       "0.8894422310756972"
      ]
     },
     "execution_count": 24,
     "metadata": {},
     "output_type": "execute_result"
    }
   ],
   "source": [
    "k5_Score=accuracy_score(y_test, K5_preds)\n",
    "k5_Score"
   ]
  },
  {
   "cell_type": "code",
   "execution_count": 25,
   "metadata": {
    "collapsed": false
   },
   "outputs": [],
   "source": [
    "fpr_k5, tpr_k5, thresholds_k5 = roc_curve(y_test, K5_preds_probs)"
   ]
  },
  {
   "cell_type": "code",
   "execution_count": null,
   "metadata": {
    "collapsed": false
   },
   "outputs": [],
   "source": [
    "param_grid_knn = {'n_neighbors':[1,2,5,8,10,15,20,30]\n",
    "              ##'weights':['uniform','distance'],\n",
    "              ##'algorithm': ['kd_tree','ball_tree'],\n",
    "              ##'metric':['manhattan','euclidean','chebyshev']\n",
    "                 }\n",
    "best_knn = GridSearchCV(neighbors, param_grid_knn,cv=2, refit = True)\n",
    "\n",
    "best_knn.fit(X_train, y_train)"
   ]
  },
  {
   "cell_type": "code",
   "execution_count": null,
   "metadata": {
    "collapsed": true
   },
   "outputs": [],
   "source": []
  }
 ],
 "metadata": {
  "kernelspec": {
   "display_name": "Python 2",
   "language": "python",
   "name": "python2"
  },
  "language_info": {
   "codemirror_mode": {
    "name": "ipython",
    "version": 2
   },
   "file_extension": ".py",
   "mimetype": "text/x-python",
   "name": "python",
   "nbconvert_exporter": "python",
   "pygments_lexer": "ipython2",
   "version": "2.7.11"
  }
 },
 "nbformat": 4,
 "nbformat_minor": 0
}
