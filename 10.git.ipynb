{
 "cells": [
  {
   "cell_type": "markdown",
   "metadata": {},
   "source": [
    "# Lecture 10: Git and Github"
   ]
  },
  {
   "cell_type": "markdown",
   "metadata": {},
   "source": [
    "[git](https://git-scm.com/) is a software version control system that lets you keep track of computer source code and to collaborate with others in developing it.  [GitHub](https://github.com/) is a commercial web service built on top of git that makes it even easier for developers to collaborate on code.  You can think of it like this: git is to GitHub like R is to RStudio.\n",
    "\n",
    "GitHub is by far the most commonly-used tool these days for collaborating on software.  The source code for [git itself](https://github.com/git/git) is managed on GitHub.  So is [scikit-learn](https://github.com/scikit-learn/scikit-learn) and [vowpal-wabbit](https://github.com/JohnLangford/vowpal_wabbit).  R uses a different software version control system called svn, but there is a mirror of its code on github [here](https://github.com/wch/r-source).\n",
    "\n",
    "To work with git, you'll first need to install it.  It can be downloaded [here](https://git-scm.com/downloads).  While there are GUI applications for working with git (and RStudio itself has menu options for dealing with git), we'll be using the git commandline utility because it's clearer and more powerful.  It will work in an OS X terminal or the Windows command prompt.\n",
    "\n",
    "**So now, do the following:**\n",
    "\n",
    "1.  Install a commandline version of git from [this link](https://git-scm.com/downloads).\n",
    "2.  Create a GitHub account for yourself, if you don't already have one.  Send an email to `mdagost@gmail.com` with the subject \"MScA GitHub\" and your username in the subject line.\n",
    "3.  Follow the instructions [here](https://help.github.com/articles/set-up-git/) to configure your username and email in git."
   ]
  },
  {
   "cell_type": "markdown",
   "metadata": {},
   "source": [
    "##Profiles"
   ]
  },
  {
   "cell_type": "markdown",
   "metadata": {},
   "source": [
    "Every GitHub user has a profile at `https://github.com/username` that shows an overview of the organizations they belong to, the repositories that they own and contribute to, and their coding activity.  Mine is [here](https://github.com/mdagost).  Lots of employers will ask for and look at your GitHub profile."
   ]
  },
  {
   "cell_type": "markdown",
   "metadata": {},
   "source": [
    "##Creating a Respository"
   ]
  },
  {
   "cell_type": "markdown",
   "metadata": {},
   "source": [
    "I'm going to make a repository to hold the code from this course, and you'll all check it out and make changes to it.  I'll start by making a repository in GitHub called `MScA_code`, making it public, and initializing it with a README."
   ]
  },
  {
   "cell_type": "markdown",
   "metadata": {},
   "source": [
    "Next, we'll clone the repository from the commandline.  The page for the GitHub repository has the string with the location of the repo (indicated in the screenshot below).  Find that location and copy it to the commandline: <br>\n",
    "<img src=\"files/mdagost_MScA_code.png\">"
   ]
  },
  {
   "cell_type": "code",
   "execution_count": null,
   "metadata": {
    "collapsed": true
   },
   "outputs": [],
   "source": [
    "cd $HOME\n",
    "git clone git@github.com:mdagost/MScA_code.git"
   ]
  },
  {
   "cell_type": "markdown",
   "metadata": {},
   "source": [
    "You should now have a directory called `MScA_code` locally."
   ]
  },
  {
   "cell_type": "markdown",
   "metadata": {},
   "source": [
    "Let's see which \"branch\" of the code that we're on:"
   ]
  },
  {
   "cell_type": "code",
   "execution_count": null,
   "metadata": {
    "collapsed": true
   },
   "outputs": [],
   "source": [
    "git branch"
   ]
  },
  {
   "cell_type": "markdown",
   "metadata": {},
   "source": [
    "We should be on the \"master\" branch."
   ]
  },
  {
   "cell_type": "markdown",
   "metadata": {},
   "source": [
    "##Adding Files to the Repository"
   ]
  },
  {
   "cell_type": "markdown",
   "metadata": {},
   "source": [
    "I'm going to copy files into that directory and then add them to the repository:"
   ]
  },
  {
   "cell_type": "code",
   "execution_count": 5,
   "metadata": {
    "collapsed": false
   },
   "outputs": [
    {
     "name": "stdout",
     "output_type": "stream",
     "text": []
    }
   ],
   "source": [
    "cp -r /Users/mdagostino/Desktop/UChicago\\ MScA\\ Materials/programming/lecture_01 $HOME/MScA_code/\n",
    "cp -r /Users/mdagostino/Desktop/UChicago\\ MScA\\ Materials/programming/lecture_02 $HOME/MScA_code/\n",
    "cp -r /Users/mdagostino/Desktop/UChicago\\ MScA\\ Materials/programming/lecture_03 $HOME/MScA_code/\n",
    "cp -r /Users/mdagostino/Desktop/UChicago\\ MScA\\ Materials/programming/lecture_04 $HOME/MScA_code/\n",
    "cp -r /Users/mdagostino/Desktop/UChicago\\ MScA\\ Materials/programming/lecture_05 $HOME/MScA_code/\n",
    "cp -r /Users/mdagostino/Desktop/UChicago\\ MScA\\ Materials/programming/lecture_06 $HOME/MScA_code/\n",
    "cp -r /Users/mdagostino/Desktop/UChicago\\ MScA\\ Materials/programming/lecture_07 $HOME/MScA_code/\n",
    "mkdir $HOME/MScA_code/lecture_08\n",
    "cp /Users/mdagostino/Desktop/UChicago\\ MScA\\ Materials/programming/lecture_08/bootstrap_aws_gpu.sh $HOME/MScA_code/lecture_08/            \n",
    "cp /Users/mdagostino/Desktop/UChicago\\ MScA\\ Materials/programming/lecture_08/lecture_8_neural_networks.ipynb $HOME/MScA_code/lecture_08/\n",
    "mkdir $HOME/MScA_code/lecture_09\n",
    "cp /Users/mdagostino/Desktop/UChicago\\ MScA\\ Materials/programming/lecture_09/lecture_9_vowpal_wabbit.ipynb $HOME/MScA_code/lecture_09/   \n",
    "cp /Users/mdagostino/Desktop/UChicago\\ MScA\\ Materials/programming/lecture_09/rstudio_ipython_notebook_aws.sh $HOME/MScA_code/lecture_09/\n",
    "cp -r /Users/mdagostino/Desktop/UChicago\\ MScA\\ Materials/programming/lecture_10 $HOME/MScA_code/"
   ]
  },
  {
   "cell_type": "code",
   "execution_count": null,
   "metadata": {
    "collapsed": true
   },
   "outputs": [],
   "source": [
    "git status"
   ]
  },
  {
   "cell_type": "markdown",
   "metadata": {},
   "source": [
    "That will show us that we have new \"untracked\" files in the repository."
   ]
  },
  {
   "cell_type": "markdown",
   "metadata": {},
   "source": [
    "We can add a single file to the respository like this:"
   ]
  },
  {
   "cell_type": "code",
   "execution_count": null,
   "metadata": {
    "collapsed": true
   },
   "outputs": [],
   "source": [
    "git add lecture_01/lecture_1_intro.ipynb"
   ]
  },
  {
   "cell_type": "markdown",
   "metadata": {},
   "source": [
    "And multiple files like this:"
   ]
  },
  {
   "cell_type": "code",
   "execution_count": null,
   "metadata": {
    "collapsed": true
   },
   "outputs": [],
   "source": [
    "git add lecture_01/*"
   ]
  },
  {
   "cell_type": "code",
   "execution_count": null,
   "metadata": {
    "collapsed": true
   },
   "outputs": [],
   "source": [
    "git status"
   ]
  },
  {
   "cell_type": "markdown",
   "metadata": {},
   "source": [
    "That will show that we've added new files to the repository."
   ]
  },
  {
   "cell_type": "code",
   "execution_count": null,
   "metadata": {
    "collapsed": true
   },
   "outputs": [],
   "source": [
    "git add ./*"
   ]
  },
  {
   "cell_type": "markdown",
   "metadata": {},
   "source": [
    "##Commiting Changes"
   ]
  },
  {
   "cell_type": "markdown",
   "metadata": {},
   "source": [
    "Changes to the repository aren't \"official\" until we commit them.  You can commit the changes to a single file:"
   ]
  },
  {
   "cell_type": "code",
   "execution_count": null,
   "metadata": {
    "collapsed": true
   },
   "outputs": [],
   "source": [
    "git commit lecture_01/Boston.csv"
   ]
  },
  {
   "cell_type": "markdown",
   "metadata": {},
   "source": [
    "A text editor should open up so that you can type a message.  **ALWAYS LEAVE A CLEAR MESSAGE.**  You can also type the message like this:"
   ]
  },
  {
   "cell_type": "code",
   "execution_count": null,
   "metadata": {
    "collapsed": true
   },
   "outputs": [],
   "source": [
    "git commit lecture_01/lecture_1_intro.ipynb -m \"A second commit...\""
   ]
  },
  {
   "cell_type": "code",
   "execution_count": null,
   "metadata": {
    "collapsed": false
   },
   "outputs": [],
   "source": [
    "git commit -a -m \"All the rest...\""
   ]
  },
  {
   "cell_type": "markdown",
   "metadata": {},
   "source": [
    "We can see the commit history:"
   ]
  },
  {
   "cell_type": "code",
   "execution_count": null,
   "metadata": {
    "collapsed": true
   },
   "outputs": [],
   "source": [
    "git log"
   ]
  },
  {
   "cell_type": "markdown",
   "metadata": {},
   "source": [
    "If you ever mess up a file, you can go back to the clean version from the repository like this:"
   ]
  },
  {
   "cell_type": "code",
   "execution_count": null,
   "metadata": {
    "collapsed": true
   },
   "outputs": [],
   "source": [
    "git reset HEAD [file]"
   ]
  },
  {
   "cell_type": "markdown",
   "metadata": {},
   "source": [
    "This will show you the changes to the file:"
   ]
  },
  {
   "cell_type": "code",
   "execution_count": null,
   "metadata": {
    "collapsed": true
   },
   "outputs": [],
   "source": [
    "git diff [file]"
   ]
  },
  {
   "cell_type": "markdown",
   "metadata": {},
   "source": [
    "##Pushing Changes"
   ]
  },
  {
   "cell_type": "markdown",
   "metadata": {},
   "source": [
    "We've commited our local changes, but to get them to the GitHub remote we have to \"push\" them:"
   ]
  },
  {
   "cell_type": "code",
   "execution_count": null,
   "metadata": {
    "collapsed": true
   },
   "outputs": [],
   "source": [
    "git push origin master"
   ]
  },
  {
   "cell_type": "markdown",
   "metadata": {},
   "source": [
    "This tells git to push our master branch up to the remote called \"origin\", which, in this case, is GitHub, where we checked the code out from.  Now, if we refresh the [GitHub page](https://github.com/mdagost/MScA_code/) for the repository, we should see the code."
   ]
  },
  {
   "cell_type": "markdown",
   "metadata": {},
   "source": [
    "##Pulling Changes"
   ]
  },
  {
   "cell_type": "markdown",
   "metadata": {},
   "source": [
    "I've made changes to the code on GitHub, but you shouldn't see those changes in your local copy of the code yet.  To see them, you have to \"pull\" them down:"
   ]
  },
  {
   "cell_type": "code",
   "execution_count": null,
   "metadata": {
    "collapsed": true
   },
   "outputs": [],
   "source": [
    "git pull"
   ]
  },
  {
   "cell_type": "markdown",
   "metadata": {},
   "source": [
    "In general, to get changes from the remote repository, you have to run this command (or other versions of it...check out `git fetch` if you're interested...), to pull down the changes."
   ]
  },
  {
   "cell_type": "markdown",
   "metadata": {},
   "source": [
    "##Branches"
   ]
  },
  {
   "cell_type": "markdown",
   "metadata": {},
   "source": [
    "The \"master\" brach is the state-of-the-art, bleeding edge of code development.  It's the latest, working, development branch.  If you want to make your own changes to the code, it's typical for you to make a branch to work on.   You make your changes to the branch, and when you're done, those changes will get merged back into the master branch, usually through the form of a pull request.  **It's bad etiquette to make changes directly to the master branch, and you can piss people off by doing that, so it's just safer not to.** "
   ]
  },
  {
   "cell_type": "markdown",
   "metadata": {},
   "source": [
    "In order for this to work, I'll have to [add you as collaborators](https://github.com/mdagost/MScA_code/settings/collaboration) with commit access to the `MScA_code` repository."
   ]
  },
  {
   "cell_type": "markdown",
   "metadata": {},
   "source": [
    "I want each of you to make a branch called `username_fixes` **(substitute your own username in)**, where you're going to modify some of the code in the repository:"
   ]
  },
  {
   "cell_type": "code",
   "execution_count": null,
   "metadata": {
    "collapsed": true
   },
   "outputs": [],
   "source": [
    "git checkout -b mdagost_fixes\n",
    "git branch"
   ]
  },
  {
   "cell_type": "markdown",
   "metadata": {},
   "source": [
    "This should show that you're no longer on the master branch.  To switch back and forth, you can do the following:"
   ]
  },
  {
   "cell_type": "code",
   "execution_count": null,
   "metadata": {
    "collapsed": true
   },
   "outputs": [],
   "source": [
    "git checkout master\n",
    "git checkout mdagost_fixes"
   ]
  },
  {
   "cell_type": "markdown",
   "metadata": {},
   "source": [
    "Make a change to the file `lecture_09/rstudio_ipython_notebook_aws.sh` and commit it when you're done.  Then, push your changes up to a branch with your name on it on the remote GitHub repository:"
   ]
  },
  {
   "cell_type": "code",
   "execution_count": null,
   "metadata": {
    "collapsed": true
   },
   "outputs": [],
   "source": [
    "git push origin mdagost_fixes"
   ]
  },
  {
   "cell_type": "markdown",
   "metadata": {},
   "source": [
    "On GitHub, we can change which branch of the code that we're looking at with the dropdown:<br>\n",
    "<img src=\"files/mdagost_MScA_code_at_mdagost_fixes.png\">"
   ]
  },
  {
   "cell_type": "markdown",
   "metadata": {},
   "source": [
    "##Pull Requests"
   ]
  },
  {
   "cell_type": "markdown",
   "metadata": {},
   "source": [
    "Once we've made our changes and pushed our branch to GitHub, we need to get that code merged into the master branch.  This is typicall done through a \"pull request\", where you ask for your changes to be pulled in.  This can be done on GitHub super easily:"
   ]
  },
  {
   "cell_type": "markdown",
   "metadata": {},
   "source": [
    "<img src=\"files/mdagost_MScA_code_PR.png\">"
   ]
  },
  {
   "cell_type": "markdown",
   "metadata": {},
   "source": [
    "The pull request will show you what files have changed, and what the exact changes are.  Once it's been created, your code can be reviewed, you can have a discussion, and then finally it can be merged in.  We can see a nice history of the changes that have been made to the code (basically a graphical form of `git log`):<br>\n",
    "<img src=\"mdagost_MScA_code_commits.png\">"
   ]
  },
  {
   "cell_type": "markdown",
   "metadata": {},
   "source": [
    "##Forks"
   ]
  },
  {
   "cell_type": "markdown",
   "metadata": {},
   "source": [
    "You were able to push the changes to your branch to the GitHub repository because I added you as collaborators.  This may be how it works in a typical company as well.  But for many open source projects, only administrators can make changes.  How does collaboration work there?\n",
    "\n",
    "This is where forks come in.  When you visit a repo in GitHub, there's a button to \"fork\" that repo.  You essentially make a complete copy of the code and all of its history under your own account:<br>\n",
    "<img src=\"scikit_fork.png\">"
   ]
  },
  {
   "cell_type": "markdown",
   "metadata": {},
   "source": [
    "Click the fork button, and note that you now have a copy of the repo under your account.  Because it's under your account, you can push changes to the master branch, or add branches of your own, without affecting the main code repository.  When you're done, you can submit a pull request from your fork back to the main repository to get your changes accepted into the main code."
   ]
  },
  {
   "cell_type": "markdown",
   "metadata": {},
   "source": [
    "## Useful Resources on Git"
   ]
  },
  {
   "cell_type": "markdown",
   "metadata": {},
   "source": [
    "We've only scratched the surface of git and GitHub and introduced some of the main ideas.  If you find yourself working with it frequently, you'll want to check out some of the following resources:\n",
    "\n",
    "[http://rogerdudler.github.io/git-guide/](http://rogerdudler.github.io/git-guide/)<br>\n",
    "[https://try.github.io/levels/1/challenges/1](https://try.github.io/levels/1/challenges/1)<br>\n",
    "[https://www.atlassian.com/git/](https://www.atlassian.com/git/)<br>\n",
    "[http://sixrevisions.com/resources/git-tutorials-beginners/](http://sixrevisions.com/resources/git-tutorials-beginners/)<br>"
   ]
  }
 ],
 "metadata": {
  "kernelspec": {
   "display_name": "Python 2",
   "language": "python",
   "name": "python2"
  },
  "language_info": {
   "codemirror_mode": {
    "name": "ipython",
    "version": 2
   },
   "file_extension": ".py",
   "mimetype": "text/x-python",
   "name": "python",
   "nbconvert_exporter": "python",
   "pygments_lexer": "ipython2",
   "version": "2.7.10"
  }
 },
 "nbformat": 4,
 "nbformat_minor": 0
}
